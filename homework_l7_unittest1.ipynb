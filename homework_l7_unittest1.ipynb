{
 "cells": [
  {
   "cell_type": "markdown",
   "metadata": {},
   "source": [
    "# The Nature Conservancy Fisheries Monitoring"
   ]
  },
  {
   "cell_type": "markdown",
   "metadata": {},
   "source": [
    "https://www.kaggle.com/c/the-nature-conservancy-fisheries-monitoring"
   ]
  },
  {
   "cell_type": "code",
   "execution_count": 9,
   "metadata": {},
   "outputs": [],
   "source": [
    "import homework_l7_backend as l7bk\n",
    "import os\n",
    "import json\n",
    "from glob import glob\n",
    "import sys\n",
    "import cv2\n",
    "import random\n",
    "import numpy as np\n",
    "import pandas as pd\n",
    "from matplotlib import pyplot as plt\n",
    "\n",
    "import tensorflow as tf\n",
    "from tensorflow import keras\n",
    "import keras.backend as K"
   ]
  },
  {
   "cell_type": "code",
   "execution_count": 10,
   "metadata": {},
   "outputs": [],
   "source": [
    "#from __future__ import absolute_import, division, print_function\n",
    "#get_ipython().run_line_magic('matplotlib', 'inline')"
   ]
  },
  {
   "cell_type": "markdown",
   "metadata": {
    "_uuid": "263db29157d5633d6f9e7340ab5efec72c677b66"
   },
   "source": [
    "# Загружаем разметку"
   ]
  },
  {
   "cell_type": "code",
   "execution_count": 11,
   "metadata": {
    "_uuid": "76496f443d36d16b961aeef10b365e3822b06a2b"
   },
   "outputs": [
    {
     "ename": "TypeError",
     "evalue": "make_labels() takes 0 positional arguments but 1 was given",
     "output_type": "error",
     "traceback": [
      "\u001b[0;31m---------------------------------------------------------------------------\u001b[0m",
      "\u001b[0;31mTypeError\u001b[0m                                 Traceback (most recent call last)",
      "\u001b[0;32m<ipython-input-11-03b6c839d64c>\u001b[0m in \u001b[0;36m<module>\u001b[0;34m\u001b[0m\n\u001b[0;32m----> 1\u001b[0;31m \u001b[0mlabel_encoder\u001b[0m\u001b[0;34m,\u001b[0m \u001b[0mstr_labels\u001b[0m \u001b[0;34m=\u001b[0m \u001b[0ml7bk\u001b[0m\u001b[0;34m.\u001b[0m\u001b[0mmake_labels\u001b[0m\u001b[0;34m(\u001b[0m\u001b[0;34m[\u001b[0m\u001b[0;34m]\u001b[0m\u001b[0;34m)\u001b[0m\u001b[0;34m\u001b[0m\u001b[0;34m\u001b[0m\u001b[0m\n\u001b[0m\u001b[1;32m      2\u001b[0m \u001b[0mprint\u001b[0m\u001b[0;34m(\u001b[0m\u001b[0mstr_labels\u001b[0m\u001b[0;34m)\u001b[0m\u001b[0;34m\u001b[0m\u001b[0;34m\u001b[0m\u001b[0m\n\u001b[1;32m      3\u001b[0m \u001b[0mprint\u001b[0m\u001b[0;34m(\u001b[0m\u001b[0mlabel_encoder\u001b[0m\u001b[0;34m)\u001b[0m\u001b[0;34m\u001b[0m\u001b[0;34m\u001b[0m\u001b[0m\n",
      "\u001b[0;31mTypeError\u001b[0m: make_labels() takes 0 positional arguments but 1 was given"
     ]
    }
   ],
   "source": [
    "label_encoder, str_labels = l7bk.make_labels([])\n",
    "print(str_labels)\n",
    "print(label_encoder)"
   ]
  },
  {
   "cell_type": "markdown",
   "metadata": {},
   "source": [
    "### Визуализируем разметку"
   ]
  },
  {
   "cell_type": "code",
   "execution_count": null,
   "metadata": {},
   "outputs": [],
   "source": [
    "boxes = l7bk.load_boxes()  # разметка детекций\n",
    "nofiles = l7bk.load_NoFiles()"
   ]
  },
  {
   "cell_type": "code",
   "execution_count": null,
   "metadata": {},
   "outputs": [],
   "source": [
    "pd.DataFrame([(k, len(v)) for k, v in boxes.items()],\n",
    "             columns=['class', 'count'])"
   ]
  },
  {
   "cell_type": "code",
   "execution_count": null,
   "metadata": {
    "_uuid": "bb49d388931db2cbd5d8f08b9104299ca90a8c5a"
   },
   "outputs": [],
   "source": [
    "plt.figure(figsize=(6, 6), dpi=120)\n",
    "img = l7bk.draw_boxes(boxes['lag'][17],image_size=(l7bk.IMG_WIDTH, l7bk.IMG_HEIGHT))\n",
    "plt.imshow(img)\n",
    "plt.title('{}x{}'.format(*img.shape));"
   ]
  },
  {
   "cell_type": "markdown",
   "metadata": {
    "_uuid": "0caa7502a0deb8e5e18773b6d2be8ed2f8d0dd4f"
   },
   "source": [
    "### Распределение размеров разметки"
   ]
  },
  {
   "cell_type": "code",
   "execution_count": null,
   "metadata": {
    "_uuid": "8db3e3e9aa63c1216d3a1f13526d74ab3abe31a8"
   },
   "outputs": [],
   "source": [
    "annotations = sum([box['annotations']\n",
    "                  for box in sum(boxes.values(), [])], [])\n",
    "\n",
    "widths = [rect['width'] for rect in annotations]\n",
    "heights = [rect['height'] for rect in annotations]\n",
    "\n",
    "plt.hist(widths)\n",
    "plt.hist(heights);"
   ]
  },
  {
   "cell_type": "code",
   "execution_count": null,
   "metadata": {},
   "outputs": [],
   "source": [
    "#with tf.device('/device:CPU:0'):\n",
    "#features = get_feature_tensor()\n",
    "\n",
    "#output = features.layers[-1].output"
   ]
  }
 ],
 "metadata": {
  "kernelspec": {
   "display_name": "Python 3",
   "language": "python",
   "name": "python3"
  },
  "language_info": {
   "codemirror_mode": {
    "name": "ipython",
    "version": 3
   },
   "file_extension": ".py",
   "mimetype": "text/x-python",
   "name": "python",
   "nbconvert_exporter": "python",
   "pygments_lexer": "ipython3",
   "version": "3.7.1"
  }
 },
 "nbformat": 4,
 "nbformat_minor": 1
}
